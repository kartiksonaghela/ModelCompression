{
 "cells": [
  {
   "cell_type": "code",
   "execution_count": 46,
   "metadata": {},
   "outputs": [],
   "source": [
    "import torch\n",
    "import torchvision.datasets as dataasets\n",
    "import torchvision.transforms as transforms\n",
    "import torch.nn as nn\n",
    "from tqdm import tqdm"
   ]
  },
  {
   "cell_type": "code",
   "execution_count": 47,
   "metadata": {},
   "outputs": [],
   "source": [
    "_=torch.manual_seed(42)"
   ]
  },
  {
   "cell_type": "code",
   "execution_count": 48,
   "metadata": {},
   "outputs": [],
   "source": [
    "transforms=transforms.Compose([transforms.ToTensor(),transforms.Normalize((0.1307,),(0.3081))])\n",
    "##load mnist dataste\n",
    "mnist_train=dataasets.MNIST(root='/data',train=True,download=True,transform=transforms)\n",
    "train_loader=torch.utils.data.DataLoader(mnist_train,batch_size=10,shuffle=True)\n",
    "mnist_test=dataasets.MNIST(root='/data',train=False,download=True,transform=transforms)\n",
    "test_loader=torch.utils.data.DataLoader(mnist_test,batch_size=10,shuffle=True)"
   ]
  },
  {
   "cell_type": "code",
   "execution_count": 49,
   "metadata": {},
   "outputs": [],
   "source": [
    "device=torch.device(\"cuda:0\" if torch.cuda.is_available() else \"cpu\")"
   ]
  },
  {
   "cell_type": "code",
   "execution_count": 50,
   "metadata": {},
   "outputs": [
    {
     "data": {
      "text/plain": [
       "device(type='cuda', index=0)"
      ]
     },
     "execution_count": 50,
     "metadata": {},
     "output_type": "execute_result"
    }
   ],
   "source": [
    "device"
   ]
  },
  {
   "cell_type": "code",
   "execution_count": 51,
   "metadata": {},
   "outputs": [],
   "source": [
    "class mnist(nn.Module):\n",
    "    def __init__(self):\n",
    "        super().__init__()\n",
    "        self.linear1=nn.Linear(28*28,2000)\n",
    "        self.linear2=nn.Linear(2000,1000)\n",
    "        self.linear3=nn.Linear(1000,10)\n",
    "        self.relu=nn.ReLU()\n",
    "    def forward(self,image):\n",
    "        x=image.view(-1,28*28)\n",
    "        x=self.relu(self.linear1(x))\n",
    "        x=self.relu(self.linear2(x))\n",
    "        x=self.linear3(x)\n",
    "        return x\n",
    "model=mnist().to(device)\n",
    "\n"
   ]
  },
  {
   "cell_type": "code",
   "execution_count": 52,
   "metadata": {},
   "outputs": [
    {
     "data": {
      "text/plain": [
       "mnist(\n",
       "  (linear1): Linear(in_features=784, out_features=2000, bias=True)\n",
       "  (linear2): Linear(in_features=2000, out_features=1000, bias=True)\n",
       "  (linear3): Linear(in_features=1000, out_features=10, bias=True)\n",
       "  (relu): ReLU()\n",
       ")"
      ]
     },
     "execution_count": 52,
     "metadata": {},
     "output_type": "execute_result"
    }
   ],
   "source": [
    "model"
   ]
  },
  {
   "cell_type": "code",
   "execution_count": 53,
   "metadata": {},
   "outputs": [
    {
     "name": "stderr",
     "output_type": "stream",
     "text": [
      "Epoch 1/2: 100%|██████████| 6000/6000 [01:26<00:00, 69.11batch/s, loss=0.147]   \n"
     ]
    },
    {
     "name": "stdout",
     "output_type": "stream",
     "text": [
      "Epoch [1/0], Average Loss: 0.2307\n"
     ]
    },
    {
     "name": "stderr",
     "output_type": "stream",
     "text": [
      "Epoch 2/2: 100%|██████████| 6000/6000 [01:28<00:00, 68.02batch/s, loss=0.0398]  "
     ]
    },
    {
     "name": "stdout",
     "output_type": "stream",
     "text": [
      "Epoch [2/1], Average Loss: 0.1248\n"
     ]
    },
    {
     "name": "stderr",
     "output_type": "stream",
     "text": [
      "\n"
     ]
    }
   ],
   "source": [
    "\n",
    "device = torch.device(\"cuda:0\" if torch.cuda.is_available() else \"cpu\")\n",
    "model = model.to(device)  # Move model to the device\n",
    "def train(train_loader, model, epochs=2, total_iterations_limit=None):\n",
    "    loss_fn = nn.CrossEntropyLoss()\n",
    "    optimizer = torch.optim.Adam(model.parameters(), lr=0.001)\n",
    "\n",
    "\n",
    "    for epoch in range(epochs):\n",
    "        model.train()\n",
    "        total_loss = 0\n",
    "        \n",
    "        # Wrap your data loader with tqdm to show progress\n",
    "        with tqdm(train_loader, unit=\"batch\") as tepoch:\n",
    "            tepoch.set_description(f\"Epoch {epoch+1}/{epochs}\")\n",
    "            \n",
    "            for input_batch, target in tepoch:\n",
    "                optimizer.zero_grad()\n",
    "\n",
    "                # Send data to device\n",
    "                x = input_batch.to(device)\n",
    "                y = target.to(device)\n",
    "\n",
    "                # Forward pass\n",
    "                output = model(x.view(-1, 28*28))\n",
    "\n",
    "                # Calculate loss\n",
    "                curr_loss = loss_fn(output, y)\n",
    "                total_loss += curr_loss.item()\n",
    "\n",
    "                # Backward pass and optimize\n",
    "                curr_loss.backward()\n",
    "                optimizer.step()\n",
    "\n",
    "                # Update progress bar description with current loss\n",
    "                tepoch.set_postfix(loss=curr_loss.item())\n",
    "\n",
    "        print(f'Epoch [{epoch+1}/{epoch}], Average Loss: {total_loss/len(train_loader):.4f}')\n",
    "train(train_loader,model,epochs=2)"
   ]
  },
  {
   "cell_type": "code",
   "execution_count": 54,
   "metadata": {},
   "outputs": [
    {
     "name": "stderr",
     "output_type": "stream",
     "text": [
      "Testing: 100%|██████████| 1000/1000 [00:09<00:00, 102.76it/s]"
     ]
    },
    {
     "name": "stdout",
     "output_type": "stream",
     "text": [
      "Accuracy: 0.962\n",
      "wrong counts for the digit 0: 28\n",
      "wrong counts for the digit 1: 10\n",
      "wrong counts for the digit 2: 42\n",
      "wrong counts for the digit 3: 19\n",
      "wrong counts for the digit 4: 25\n",
      "wrong counts for the digit 5: 70\n",
      "wrong counts for the digit 6: 25\n",
      "wrong counts for the digit 7: 106\n",
      "wrong counts for the digit 8: 14\n",
      "wrong counts for the digit 9: 44\n"
     ]
    },
    {
     "name": "stderr",
     "output_type": "stream",
     "text": [
      "\n"
     ]
    }
   ],
   "source": [
    "def test():\n",
    "    correct = 0\n",
    "    total = 0\n",
    "\n",
    "    wrong_counts = [0 for i in range(10)]\n",
    "\n",
    "    with torch.no_grad():\n",
    "        for data in tqdm(test_loader, desc='Testing'):\n",
    "            x, y = data\n",
    "            x = x.to(device)\n",
    "            y = y.to(device)\n",
    "            output = model(x.view(-1, 784))\n",
    "            for idx, i in enumerate(output):\n",
    "                if torch.argmax(i) == y[idx]:\n",
    "                    correct +=1\n",
    "                else:\n",
    "                    wrong_counts[y[idx]] +=1\n",
    "                total +=1\n",
    "    print(f'Accuracy: {round(correct/total, 3)}')\n",
    "    for i in range(len(wrong_counts)):\n",
    "        print(f'wrong counts for the digit {i}: {wrong_counts[i]}')\n",
    "\n",
    "test()"
   ]
  },
  {
   "cell_type": "code",
   "execution_count": 55,
   "metadata": {},
   "outputs": [],
   "source": [
    "original_weights = {}\n",
    "for name, param in model.named_parameters():\n",
    "    original_weights[name] = param.clone().detach()"
   ]
  },
  {
   "cell_type": "code",
   "execution_count": 56,
   "metadata": {},
   "outputs": [
    {
     "name": "stdout",
     "output_type": "stream",
     "text": [
      "1570000\n",
      "Layer 1: W: torch.Size([2000, 784]) + B: torch.Size([2000])\n",
      "3571000\n",
      "Layer 2: W: torch.Size([1000, 2000]) + B: torch.Size([1000])\n",
      "3581010\n",
      "Layer 3: W: torch.Size([10, 1000]) + B: torch.Size([10])\n",
      "Total number of parameters: 3,581,010\n"
     ]
    }
   ],
   "source": [
    "# Print the size of the weights matrices of the network\n",
    "# Save the count of the total number of parameters\n",
    "total_parameters_original = 0\n",
    "for index, layer in enumerate([model.linear1, model.linear2, model.linear3]):\n",
    "    total_parameters_original += layer.weight.nelement() + layer.bias.nelement()\n",
    "    print(total_parameters_original)\n",
    "    print(f'Layer {index+1}: W: {layer.weight.shape} + B: {layer.bias.shape}')\n",
    "print(f'Total number of parameters: {total_parameters_original:,}')"
   ]
  },
  {
   "cell_type": "code",
   "execution_count": 57,
   "metadata": {},
   "outputs": [],
   "source": [
    "class LoRaParameters(nn.Module):\n",
    "    def __init__(self,feature_out,feature_in,alpha,rank=1,device='cpu'):\n",
    "        super().__init__()\n",
    "        self.LoraA=nn.Parameter(torch.zeros((rank,feature_out)).to(device))\n",
    "        self.LoraB=nn.Parameter(torch.zeros((feature_in,rank)).to(device))\n",
    "        nn.init.normal_(self.LoraA, mean=0, std=1)\n",
    "        self.scale=alpha/rank\n",
    "        self.enabled=True\n",
    "    def forward(self,original_weights):\n",
    "        if self.enabled:\n",
    "\n",
    "            return original_weights + torch.matmul(self.LoraB, self.LoraA).view(original_weights.shape) * self.scale\n",
    "        else:\n",
    "            original_weights\n",
    "\n",
    "        "
   ]
  },
  {
   "cell_type": "code",
   "execution_count": 58,
   "metadata": {},
   "outputs": [
    {
     "data": {
      "text/plain": [
       "torch.Size([2000, 784])"
      ]
     },
     "execution_count": 58,
     "metadata": {},
     "output_type": "execute_result"
    }
   ],
   "source": [
    "model.linear1.weight.shape"
   ]
  },
  {
   "cell_type": "code",
   "execution_count": 59,
   "metadata": {},
   "outputs": [
    {
     "name": "stdout",
     "output_type": "stream",
     "text": [
      "2000 784\n",
      "1000 2000\n",
      "10 1000\n"
     ]
    }
   ],
   "source": [
    "import torch.nn.utils.parametrize as parametrize\n",
    "def linear_layer_parameterization(layer,device,rank=2,lora_alpha=1):\n",
    "    features_in,features_out=layer.weight.shape\n",
    "    print(features_in,features_out)\n",
    "    return LoRaParameters(features_in,features_out,rank=rank,alpha=lora_alpha,device=device)\n",
    "parametrize.register_parametrization(model.linear1,\"weight\",linear_layer_parameterization(model.linear1,device))\n",
    "parametrize.register_parametrization(model.linear2,\"weight\",linear_layer_parameterization(model.linear2,device))\n",
    "parametrize.register_parametrization(model.linear3,\"weight\",linear_layer_parameterization(model.linear3,device))\n",
    "\n",
    "def enable_disable_lora(enabled=True):\n",
    "    for layer in [model.linear1, model.linear2, model.linear3]:\n",
    "        layer.parametrizations[\"weight\"][0].enabled = enabled\n"
   ]
  },
  {
   "cell_type": "code",
   "execution_count": 60,
   "metadata": {},
   "outputs": [
    {
     "name": "stdout",
     "output_type": "stream",
     "text": [
      "Layer 1: W: torch.Size([2000, 784]) + B: torch.Size([2000]) + Lora_A: torch.Size([2, 2000]) + Lora_B: torch.Size([784, 2])\n",
      "Layer 2: W: torch.Size([1000, 2000]) + B: torch.Size([1000]) + Lora_A: torch.Size([2, 1000]) + Lora_B: torch.Size([2000, 2])\n",
      "Layer 3: W: torch.Size([10, 1000]) + B: torch.Size([10]) + Lora_A: torch.Size([2, 10]) + Lora_B: torch.Size([1000, 2])\n",
      "Total number of parameters (original): 3,581,010\n",
      "Total number of parameters (original + LoRA): 3,594,598\n",
      "Parameters introduced by LoRA: 13,588\n",
      "Parameters incremment: 0.379%\n"
     ]
    }
   ],
   "source": [
    "total_parameters_lora = 0\n",
    "total_parameters_non_lora = 0\n",
    "for index, layer in enumerate([model.linear1, model.linear2, model.linear3]):\n",
    "    total_parameters_lora += layer.parametrizations[\"weight\"][0].LoraA.nelement() + layer.parametrizations[\"weight\"][0].LoraB.nelement()\n",
    "    total_parameters_non_lora += layer.weight.nelement() + layer.bias.nelement()\n",
    "    print(\n",
    "        f'Layer {index+1}: W: {layer.weight.shape} + B: {layer.bias.shape} + Lora_A: {layer.parametrizations[\"weight\"][0].LoraA.shape} + Lora_B: {layer.parametrizations[\"weight\"][0].LoraB.shape}'\n",
    "    )\n",
    "# The non-LoRA parameters count must match the original network\n",
    "assert total_parameters_non_lora == total_parameters_original\n",
    "print(f'Total number of parameters (original): {total_parameters_non_lora:,}')\n",
    "print(f'Total number of parameters (original + LoRA): {total_parameters_lora + total_parameters_non_lora:,}')\n",
    "print(f'Parameters introduced by LoRA: {total_parameters_lora:,}')\n",
    "parameters_incremment = (total_parameters_lora / total_parameters_non_lora) * 100\n",
    "print(f'Parameters incremment: {parameters_incremment:.3f}%')"
   ]
  },
  {
   "cell_type": "code",
   "execution_count": 61,
   "metadata": {},
   "outputs": [
    {
     "data": {
      "text/plain": [
       "mnist(\n",
       "  (linear1): ParametrizedLinear(\n",
       "    in_features=784, out_features=2000, bias=True\n",
       "    (parametrizations): ModuleDict(\n",
       "      (weight): ParametrizationList(\n",
       "        (0): LoRaParameters()\n",
       "      )\n",
       "    )\n",
       "  )\n",
       "  (linear2): ParametrizedLinear(\n",
       "    in_features=2000, out_features=1000, bias=True\n",
       "    (parametrizations): ModuleDict(\n",
       "      (weight): ParametrizationList(\n",
       "        (0): LoRaParameters()\n",
       "      )\n",
       "    )\n",
       "  )\n",
       "  (linear3): ParametrizedLinear(\n",
       "    in_features=1000, out_features=10, bias=True\n",
       "    (parametrizations): ModuleDict(\n",
       "      (weight): ParametrizationList(\n",
       "        (0): LoRaParameters()\n",
       "      )\n",
       "    )\n",
       "  )\n",
       "  (relu): ReLU()\n",
       ")"
      ]
     },
     "execution_count": 61,
     "metadata": {},
     "output_type": "execute_result"
    }
   ],
   "source": [
    "model"
   ]
  },
  {
   "cell_type": "code",
   "execution_count": 62,
   "metadata": {},
   "outputs": [
    {
     "name": "stdout",
     "output_type": "stream",
     "text": [
      "Freezing non-LoRA parameter linear1.bias\n",
      "Freezing non-LoRA parameter linear1.parametrizations.weight.original\n",
      "Freezing non-LoRA parameter linear2.bias\n",
      "Freezing non-LoRA parameter linear2.parametrizations.weight.original\n",
      "Freezing non-LoRA parameter linear3.bias\n",
      "Freezing non-LoRA parameter linear3.parametrizations.weight.original\n"
     ]
    }
   ],
   "source": [
    "for name, param in model.named_parameters():\n",
    "    if 'Lora' not in name:\n",
    "        print(f'Freezing non-LoRA parameter {name}')\n",
    "        param.requires_grad = False"
   ]
  },
  {
   "cell_type": "code",
   "execution_count": 63,
   "metadata": {},
   "outputs": [
    {
     "name": "stdout",
     "output_type": "stream",
     "text": [
      "Freezing non-LoRA parameter linear1.bias\n",
      "Freezing non-LoRA parameter linear1.parametrizations.weight.original\n",
      "Freezing non-LoRA parameter linear2.bias\n",
      "Freezing non-LoRA parameter linear2.parametrizations.weight.original\n",
      "Freezing non-LoRA parameter linear3.bias\n",
      "Freezing non-LoRA parameter linear3.parametrizations.weight.original\n"
     ]
    },
    {
     "name": "stderr",
     "output_type": "stream",
     "text": [
      "Epoch 1/1: 100%|██████████| 627/627 [00:09<00:00, 66.81batch/s, loss=1.63e-5] "
     ]
    },
    {
     "name": "stdout",
     "output_type": "stream",
     "text": [
      "Epoch [1/0], Average Loss: 0.0168\n"
     ]
    },
    {
     "name": "stderr",
     "output_type": "stream",
     "text": [
      "\n"
     ]
    }
   ],
   "source": [
    "# Freeze the non-Lora parameters\n",
    "for name, param in model.named_parameters():\n",
    "    if 'Lora' not in name:\n",
    "        print(f'Freezing non-LoRA parameter {name}')\n",
    "        param.requires_grad = False\n",
    "\n",
    "# Load the MNIST dataset again, by keeping only the digit 9\n",
    "mnist_trainset = dataasets.MNIST(root='./data', train=True, download=True, transform=transforms)\n",
    "exclude_indices = mnist_trainset.targets == 7\n",
    "mnist_trainset.data = mnist_trainset.data[exclude_indices]\n",
    "mnist_trainset.targets = mnist_trainset.targets[exclude_indices]\n",
    "# Create a dataloader for the training\n",
    "train_loader = torch.utils.data.DataLoader(mnist_trainset, batch_size=10, shuffle=True)\n",
    "\n",
    "# Train the network with LoRA only on the digit 9 and only for 100 batches (hoping that it would improve the performance on the digit 9)\n",
    "train(train_loader, model, epochs=1, total_iterations_limit=100)"
   ]
  },
  {
   "cell_type": "code",
   "execution_count": 64,
   "metadata": {},
   "outputs": [
    {
     "name": "stderr",
     "output_type": "stream",
     "text": [
      "Testing: 100%|██████████| 1000/1000 [00:10<00:00, 91.24it/s] "
     ]
    },
    {
     "name": "stdout",
     "output_type": "stream",
     "text": [
      "Accuracy: 0.893\n",
      "wrong counts for the digit 0: 49\n",
      "wrong counts for the digit 1: 72\n",
      "wrong counts for the digit 2: 357\n",
      "wrong counts for the digit 3: 44\n",
      "wrong counts for the digit 4: 74\n",
      "wrong counts for the digit 5: 80\n",
      "wrong counts for the digit 6: 32\n",
      "wrong counts for the digit 7: 0\n",
      "wrong counts for the digit 8: 46\n",
      "wrong counts for the digit 9: 318\n"
     ]
    },
    {
     "name": "stderr",
     "output_type": "stream",
     "text": [
      "\n"
     ]
    }
   ],
   "source": [
    "# Test with LoRA enabled\n",
    "enable_disable_lora(enabled=True)\n",
    "test()"
   ]
  },
  {
   "cell_type": "code",
   "execution_count": null,
   "metadata": {},
   "outputs": [],
   "source": []
  }
 ],
 "metadata": {
  "kernelspec": {
   "display_name": "pytorch",
   "language": "python",
   "name": "python3"
  },
  "language_info": {
   "codemirror_mode": {
    "name": "ipython",
    "version": 3
   },
   "file_extension": ".py",
   "mimetype": "text/x-python",
   "name": "python",
   "nbconvert_exporter": "python",
   "pygments_lexer": "ipython3",
   "version": "3.10.15"
  }
 },
 "nbformat": 4,
 "nbformat_minor": 2
}
